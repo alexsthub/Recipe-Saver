{
 "cells": [
  {
   "cell_type": "code",
   "execution_count": 170,
   "metadata": {},
   "outputs": [],
   "source": [
    "import requests\n",
    "from bs4 import BeautifulSoup\n",
    "import pandas as pd\n",
    "import wget\n",
    "import os\n",
    "from datetime import datetime\n",
    "from random import randrange, randint\n",
    "from datetime import timedelta\n",
    "import json\n",
    "import re"
   ]
  },
  {
   "cell_type": "code",
   "execution_count": 148,
   "metadata": {},
   "outputs": [
    {
     "name": "stdout",
     "output_type": "stream",
     "text": [
      "Starting crawling script.\n"
     ]
    }
   ],
   "source": [
    "# Starting from the top\n",
    "print('Starting crawling script.')"
   ]
  },
  {
   "cell_type": "code",
   "execution_count": 149,
   "metadata": {},
   "outputs": [],
   "source": [
    "# Get recipe categories\n",
    "base = 'https://www.myfoodandfamily.com/recipes/'\n",
    "pages = {'dinner': [3, 4, 6, 8, 7, 5],\n",
    "        'regional': [412, 202, 118, 486, 372, 30, 362, 140, 149, 271],\n",
    "        'holiday': [597, 10, 21],\n",
    "        }"
   ]
  },
  {
   "cell_type": "code",
   "execution_count": 151,
   "metadata": {},
   "outputs": [
    {
     "name": "stdout",
     "output_type": "stream",
     "text": [
      "Scraping category: dinner on id #3\n",
      "Scraping category: dinner on id #4\n",
      "Scraping category: dinner on id #6\n",
      "Scraping category: dinner on id #8\n",
      "Scraping category: dinner on id #7\n",
      "Scraping category: dinner on id #5\n",
      "Scraping category: regional on id #412\n",
      "Scraping category: regional on id #202\n",
      "Scraping category: regional on id #118\n",
      "Scraping category: regional on id #486\n",
      "Scraping category: regional on id #372\n",
      "Scraping category: regional on id #30\n",
      "Scraping category: regional on id #362\n",
      "Scraping category: regional on id #140\n",
      "Scraping category: regional on id #149\n",
      "Scraping category: regional on id #271\n",
      "Scraping category: holiday on id #597\n",
      "Scraping category: holiday on id #10\n",
      "Scraping category: holiday on id #21\n"
     ]
    }
   ],
   "source": [
    "# want category, subcategory, and link\n",
    "data = []\n",
    "\n",
    "base = 'https://www.myfoodandfamily.com/recipes/'\n",
    "for category in pages:\n",
    "    subcategories = pages[category]\n",
    "    for subcategoryid in subcategories:\n",
    "        print('Scraping category: %s on id #%i' % (category, subcategoryid))\n",
    "        url = base + str(subcategoryid)\n",
    "        response = requests.get(url)\n",
    "        soup = BeautifulSoup(response.text, 'html.parser')\n",
    "        \n",
    "        subcategoryname = soup.find('h1').text\n",
    "        cards = soup.find_all('div', class_='cls_outerCard item-card')\n",
    "        for card in cards:\n",
    "            link = 'https://www.myfoodandfamily.com/' + card.find('a')['href']\n",
    "            image = card.find('img')['data-yo-src']\n",
    "            tup = (category, subcategoryname, link, image)\n",
    "            data.append(tup)"
   ]
  },
  {
   "cell_type": "code",
   "execution_count": 152,
   "metadata": {},
   "outputs": [
    {
     "name": "stdout",
     "output_type": "stream",
     "text": [
      "There are 430 recipes\n"
     ]
    }
   ],
   "source": [
    "print('There are %i recipes' % len(data))"
   ]
  },
  {
   "cell_type": "code",
   "execution_count": 154,
   "metadata": {},
   "outputs": [
    {
     "data": {
      "text/plain": [
       "('dinner',\n",
       " 'Dinner Recipes',\n",
       " 'https://www.myfoodandfamily.com//recipe/095157/baked-crab-rangoon?categoryid=3',\n",
       " 'https://cdn-fsly.yottaa.net/5c8fa1e52bb0ac74cc828a3e/a954f3508a360137f0e97e3461d3e37f.90bd97202bb20137fdc3123dfe2baf36.yottaa.net/v~4b.179/adaptivemedia/rendition/95157.tif?id=c39fe037ca7739b4531cc9ba1c962e751c0d276d&ht=225&wd=225&version=1&clid=pim&yocs=1b_')"
      ]
     },
     "execution_count": 154,
     "metadata": {},
     "output_type": "execute_result"
    }
   ],
   "source": [
    "data[0]"
   ]
  },
  {
   "cell_type": "code",
   "execution_count": 158,
   "metadata": {},
   "outputs": [
    {
     "name": "stdout",
     "output_type": "stream",
     "text": [
      "On index 0\n",
      "On index 20\n",
      "On index 40\n",
      "On index 60\n",
      "On index 80\n",
      "On index 100\n",
      "On index 120\n",
      "On index 140\n",
      "On index 160\n",
      "On index 180\n",
      "On index 200\n",
      "On index 220\n",
      "On index 240\n",
      "On index 260\n",
      "On index 280\n",
      "On index 300\n",
      "On index 320\n",
      "On index 340\n",
      "On index 360\n",
      "On index 380\n",
      "On index 400\n",
      "On index 420\n"
     ]
    }
   ],
   "source": [
    "totalData = []\n",
    "for index, recipe in enumerate(data):\n",
    "    if index % 20 == 0:\n",
    "        print('On index %i' % index)\n",
    "    category, subcategory, link, imageLink = recipe\n",
    "    response = requests.get(link)\n",
    "    soup = BeautifulSoup(response.text, 'html.parser')\n",
    "    \n",
    "    title = soup.find('h1').text.strip()\n",
    "    \n",
    "    timeTag = soup.find('div', attrs = {'data-qa': 'qa-cook-timer'})\n",
    "    if timeTag is not None:\n",
    "        estimatedTime = timeTag.text.strip()\n",
    "    else:\n",
    "        estimatedTime = None\n",
    "        \n",
    "    descTag = soup.find('div', attrs = {'data-qa':'qa-prd-desc'})\n",
    "    if descTag is not None:\n",
    "        description = descTag.text.strip()\n",
    "    else:\n",
    "        description = None\n",
    "    \n",
    "    ingredients = []\n",
    "    ingredientsList = soup.find_all('div', attrs = {'data-qa':'qa-ingreList'})\n",
    "    for element in ingredientsList:\n",
    "        ingredients.append(element.text.strip())\n",
    "        \n",
    "    procedure = []\n",
    "    procedureContainer = soup.find('div', attrs = {'data-qa':'qa-recipe-make-details'})\n",
    "    procedureList = procedureContainer.find_all('div', class_='krRecipeDirectionsDest')\n",
    "    for step in procedureList:\n",
    "        # [2:] to get rid of number\n",
    "        procedure.append(step.text[2:].strip())\n",
    "        \n",
    "    # Don't download if already exists\n",
    "    downloadLocation = f'./recipeImages/{title}.jpg'\n",
    "    if not os.path.exists(downloadLocation):\n",
    "        if imageLink.startswith('//'):\n",
    "            imageLink = 'http:' + imageLink + '?'\n",
    "            myfile = requests.get(imageLink)\n",
    "            open(downloadLocation, 'wb').write(myfile.content)\n",
    "        else:\n",
    "            wget.download(imageLink, downloadLocation)\n",
    "    imageName = title + '.jpg'\n",
    "    \n",
    "    recipeObject = {\n",
    "        'category': category,\n",
    "        'subcategory': subcategory,\n",
    "        'title': title,\n",
    "        'description': description,\n",
    "        'ingredients': ingredients,\n",
    "        'procedure': procedure,\n",
    "        'imageName': imageName,\n",
    "        'estimatedTime': estimatedTime\n",
    "    }\n",
    "    totalData.append(recipeObject)\n",
    "        "
   ]
  },
  {
   "cell_type": "code",
   "execution_count": null,
   "metadata": {},
   "outputs": [],
   "source": []
  },
  {
   "cell_type": "code",
   "execution_count": 159,
   "metadata": {},
   "outputs": [],
   "source": [
    "df = pd.DataFrame(totalData)"
   ]
  },
  {
   "cell_type": "code",
   "execution_count": 160,
   "metadata": {},
   "outputs": [],
   "source": [
    "# Create random list of datetimes"
   ]
  },
  {
   "cell_type": "code",
   "execution_count": 161,
   "metadata": {},
   "outputs": [
    {
     "data": {
      "text/html": [
       "<div>\n",
       "<style scoped>\n",
       "    .dataframe tbody tr th:only-of-type {\n",
       "        vertical-align: middle;\n",
       "    }\n",
       "\n",
       "    .dataframe tbody tr th {\n",
       "        vertical-align: top;\n",
       "    }\n",
       "\n",
       "    .dataframe thead th {\n",
       "        text-align: right;\n",
       "    }\n",
       "</style>\n",
       "<table border=\"1\" class=\"dataframe\">\n",
       "  <thead>\n",
       "    <tr style=\"text-align: right;\">\n",
       "      <th></th>\n",
       "      <th>category</th>\n",
       "      <th>description</th>\n",
       "      <th>estimatedTime</th>\n",
       "      <th>imageName</th>\n",
       "      <th>ingredients</th>\n",
       "      <th>procedure</th>\n",
       "      <th>subcategory</th>\n",
       "      <th>title</th>\n",
       "    </tr>\n",
       "  </thead>\n",
       "  <tbody>\n",
       "    <tr>\n",
       "      <th>0</th>\n",
       "      <td>dinner</td>\n",
       "      <td>Learn how to make these crispy Baked Crab Rang...</td>\n",
       "      <td>40 Min(s)</td>\n",
       "      <td>Baked Crab Rangoon.jpg</td>\n",
       "      <td>[4 oz. (1/2 of 8-oz. pkg.) PHILADELPHIA Neufch...</td>\n",
       "      <td>[Heat oven to 350°F., Mix first 4 ingredients ...</td>\n",
       "      <td>Dinner Recipes</td>\n",
       "      <td>Baked Crab Rangoon</td>\n",
       "    </tr>\n",
       "    <tr>\n",
       "      <th>1</th>\n",
       "      <td>dinner</td>\n",
       "      <td>Enjoy a devilishly good Country-Style Smashed ...</td>\n",
       "      <td>35 Min(s)</td>\n",
       "      <td>Country-Style Smashed Potato Salad.jpg</td>\n",
       "      <td>[3 lb. Yukon gold potatoes (about 6 large), pe...</td>\n",
       "      <td>[Cook potatoes in boiling water in saucepan 10...</td>\n",
       "      <td>Dinner Recipes</td>\n",
       "      <td>Country-Style Smashed Potato Salad</td>\n",
       "    </tr>\n",
       "    <tr>\n",
       "      <th>2</th>\n",
       "      <td>dinner</td>\n",
       "      <td>Enjoy a bowl of our Hearty Italian Sausage Sou...</td>\n",
       "      <td>40 Min(s)</td>\n",
       "      <td>Hearty Italian Sausage Soup.jpg</td>\n",
       "      <td>[1 pkg. (13 oz.) OSCAR MAYER Natural Uncured I...</td>\n",
       "      <td>[Cook sausage and onions in large skillet on m...</td>\n",
       "      <td>Dinner Recipes</td>\n",
       "      <td>Hearty Italian Sausage Soup</td>\n",
       "    </tr>\n",
       "    <tr>\n",
       "      <th>3</th>\n",
       "      <td>dinner</td>\n",
       "      <td>Savor Lentil Soup during cold months or year-r...</td>\n",
       "      <td>50 Min(s)</td>\n",
       "      <td>Lentil Soup.jpg</td>\n",
       "      <td>[6 slices OSCAR MAYER Bacon, chopped, 1 small ...</td>\n",
       "      <td>[Cook bacon and onions in large saucepan 8 to ...</td>\n",
       "      <td>Dinner Recipes</td>\n",
       "      <td>Lentil Soup</td>\n",
       "    </tr>\n",
       "    <tr>\n",
       "      <th>4</th>\n",
       "      <td>dinner</td>\n",
       "      <td>Trying to find a speedy beef stir-fry that'll ...</td>\n",
       "      <td>25 Min(s)</td>\n",
       "      <td>Speedy Barbecue Beef Stir-Fry.jpg</td>\n",
       "      <td>[1/4 cup KRAFT Original Barbecue Sauce, 3 Tbsp...</td>\n",
       "      <td>[Mix barbecue sauce and broth until blended; t...</td>\n",
       "      <td>Dinner Recipes</td>\n",
       "      <td>Speedy Barbecue Beef Stir-Fry</td>\n",
       "    </tr>\n",
       "  </tbody>\n",
       "</table>\n",
       "</div>"
      ],
      "text/plain": [
       "  category                                        description estimatedTime  \\\n",
       "0   dinner  Learn how to make these crispy Baked Crab Rang...     40 Min(s)   \n",
       "1   dinner  Enjoy a devilishly good Country-Style Smashed ...     35 Min(s)   \n",
       "2   dinner  Enjoy a bowl of our Hearty Italian Sausage Sou...     40 Min(s)   \n",
       "3   dinner  Savor Lentil Soup during cold months or year-r...     50 Min(s)   \n",
       "4   dinner  Trying to find a speedy beef stir-fry that'll ...     25 Min(s)   \n",
       "\n",
       "                                imageName  \\\n",
       "0                  Baked Crab Rangoon.jpg   \n",
       "1  Country-Style Smashed Potato Salad.jpg   \n",
       "2         Hearty Italian Sausage Soup.jpg   \n",
       "3                         Lentil Soup.jpg   \n",
       "4       Speedy Barbecue Beef Stir-Fry.jpg   \n",
       "\n",
       "                                         ingredients  \\\n",
       "0  [4 oz. (1/2 of 8-oz. pkg.) PHILADELPHIA Neufch...   \n",
       "1  [3 lb. Yukon gold potatoes (about 6 large), pe...   \n",
       "2  [1 pkg. (13 oz.) OSCAR MAYER Natural Uncured I...   \n",
       "3  [6 slices OSCAR MAYER Bacon, chopped, 1 small ...   \n",
       "4  [1/4 cup KRAFT Original Barbecue Sauce, 3 Tbsp...   \n",
       "\n",
       "                                           procedure     subcategory  \\\n",
       "0  [Heat oven to 350°F., Mix first 4 ingredients ...  Dinner Recipes   \n",
       "1  [Cook potatoes in boiling water in saucepan 10...  Dinner Recipes   \n",
       "2  [Cook sausage and onions in large skillet on m...  Dinner Recipes   \n",
       "3  [Cook bacon and onions in large saucepan 8 to ...  Dinner Recipes   \n",
       "4  [Mix barbecue sauce and broth until blended; t...  Dinner Recipes   \n",
       "\n",
       "                                title  \n",
       "0                  Baked Crab Rangoon  \n",
       "1  Country-Style Smashed Potato Salad  \n",
       "2         Hearty Italian Sausage Soup  \n",
       "3                         Lentil Soup  \n",
       "4       Speedy Barbecue Beef Stir-Fry  "
      ]
     },
     "execution_count": 161,
     "metadata": {},
     "output_type": "execute_result"
    }
   ],
   "source": [
    "df.head()"
   ]
  },
  {
   "cell_type": "code",
   "execution_count": 163,
   "metadata": {},
   "outputs": [],
   "source": [
    "def random_date(start, end):\n",
    "    delta = end - start\n",
    "    int_delta = (delta.days * 24 * 60 * 60) + delta.seconds\n",
    "    random_second = randrange(int_delta)\n",
    "    return start + timedelta(seconds=random_second)"
   ]
  },
  {
   "cell_type": "code",
   "execution_count": 164,
   "metadata": {},
   "outputs": [],
   "source": [
    "start = datetime.strptime('1/1/2018 12:00 AM', '%m/%d/%Y %I:%M %p')\n",
    "end = datetime.strptime('11/1/2019 12:00 AM', '%m/%d/%Y %I:%M %p')"
   ]
  },
  {
   "cell_type": "code",
   "execution_count": 165,
   "metadata": {},
   "outputs": [],
   "source": [
    "times = []\n",
    "for i in range(len(df)):\n",
    "    dates = []\n",
    "    count = randint(1, 5)\n",
    "    if count < 3:\n",
    "        count = 1\n",
    "    else:\n",
    "        count -= 1\n",
    "    for i in range(count):\n",
    "        randomDate = random_date(start, end)\n",
    "        randomDate = randomDate.strftime(\"%m/%d/%Y, %H:%M:%S\")\n",
    "        dates.append(randomDate)\n",
    "    dates.sort()\n",
    "    times.append(dates)"
   ]
  },
  {
   "cell_type": "code",
   "execution_count": 166,
   "metadata": {},
   "outputs": [],
   "source": [
    "df['times'] = times"
   ]
  },
  {
   "cell_type": "code",
   "execution_count": 167,
   "metadata": {},
   "outputs": [],
   "source": [
    "# Do favorites\n",
    "isFavorite = [True if randint(1,4) == 4 else False for i in range(len(df))]\n",
    "df['isFavorite'] = isFavorite"
   ]
  },
  {
   "cell_type": "code",
   "execution_count": 187,
   "metadata": {},
   "outputs": [],
   "source": [
    "# Convert estimatedTime to minutes\n",
    "convertedTimes = []\n",
    "times = df['estimatedTime'].values\n",
    "for time in times:\n",
    "    if time is None:\n",
    "        convertedTimes.append(None)\n",
    "    else:\n",
    "        numbers = re.findall(r'[0-9]+', time) \n",
    "        if len(numbers) == 2:\n",
    "            total = int(numbers[1]) + int(numbers[0]) * 60\n",
    "        elif len(numbers) == 1:\n",
    "            total = int(numbers[0])\n",
    "        else:\n",
    "            print('error')\n",
    "        convertedTimes.append(total)"
   ]
  },
  {
   "cell_type": "code",
   "execution_count": 191,
   "metadata": {},
   "outputs": [],
   "source": [
    "df['estimatedTime'] = convertedTimes"
   ]
  },
  {
   "cell_type": "code",
   "execution_count": null,
   "metadata": {},
   "outputs": [],
   "source": []
  },
  {
   "cell_type": "code",
   "execution_count": 193,
   "metadata": {},
   "outputs": [],
   "source": [
    "# Save to csv\n",
    "df.to_csv('data.csv', index = False)"
   ]
  },
  {
   "cell_type": "code",
   "execution_count": null,
   "metadata": {},
   "outputs": [],
   "source": []
  },
  {
   "cell_type": "code",
   "execution_count": null,
   "metadata": {},
   "outputs": [],
   "source": []
  },
  {
   "cell_type": "code",
   "execution_count": null,
   "metadata": {},
   "outputs": [],
   "source": []
  },
  {
   "cell_type": "code",
   "execution_count": 195,
   "metadata": {},
   "outputs": [],
   "source": [
    "# Change to json\n",
    "jsonData = df.to_json(orient = 'records')"
   ]
  },
  {
   "cell_type": "code",
   "execution_count": 196,
   "metadata": {},
   "outputs": [],
   "source": [
    "with open('jsonData.json', 'w') as json_file:\n",
    "    json.dump(jsonData, json_file)"
   ]
  },
  {
   "cell_type": "code",
   "execution_count": null,
   "metadata": {},
   "outputs": [],
   "source": []
  }
 ],
 "metadata": {
  "kernelspec": {
   "display_name": "Python 3",
   "language": "python",
   "name": "python3"
  },
  "language_info": {
   "codemirror_mode": {
    "name": "ipython",
    "version": 3
   },
   "file_extension": ".py",
   "mimetype": "text/x-python",
   "name": "python",
   "nbconvert_exporter": "python",
   "pygments_lexer": "ipython3",
   "version": "3.7.3"
  }
 },
 "nbformat": 4,
 "nbformat_minor": 2
}

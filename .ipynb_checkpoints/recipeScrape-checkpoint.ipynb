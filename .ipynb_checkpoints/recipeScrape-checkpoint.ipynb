{
 "cells": [
  {
   "cell_type": "code",
   "execution_count": 1,
   "metadata": {},
   "outputs": [],
   "source": [
    "import requests\n",
    "from bs4 import BeautifulSoup\n",
    "import pandas as pd"
   ]
  },
  {
   "cell_type": "code",
   "execution_count": 2,
   "metadata": {},
   "outputs": [
    {
     "name": "stdout",
     "output_type": "stream",
     "text": [
      "Starting crawling script.\n"
     ]
    }
   ],
   "source": [
    "# Starting from the top\n",
    "print('Starting crawling script.')"
   ]
  },
  {
   "cell_type": "code",
   "execution_count": 163,
   "metadata": {},
   "outputs": [],
   "source": [
    "# Create empty data frame and find links for categories of recipes(first layer)\n",
    "recipeDataFrame = pd.DataFrame(columns = ['url', 'title', 'ingredients'])\n",
    "response = requests.get('http://www.kraftrecipes.com/recipes/dinner/beef.aspx')\n",
    "soup = BeautifulSoup(response.text, 'html.parser')\n",
    "uL = soup.find('ul', class_ = 'category-list')\n",
    "listElements = uL.find_all('li')"
   ]
  },
  {
   "cell_type": "code",
   "execution_count": null,
   "metadata": {},
   "outputs": [],
   "source": []
  }
 ],
 "metadata": {
  "kernelspec": {
   "display_name": "Python 3",
   "language": "python",
   "name": "python3"
  },
  "language_info": {
   "codemirror_mode": {
    "name": "ipython",
    "version": 3
   },
   "file_extension": ".py",
   "mimetype": "text/x-python",
   "name": "python",
   "nbconvert_exporter": "python",
   "pygments_lexer": "ipython3",
   "version": "3.7.3"
  }
 },
 "nbformat": 4,
 "nbformat_minor": 2
}
